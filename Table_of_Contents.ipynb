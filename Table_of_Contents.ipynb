{
 "cells": [
  {
   "cell_type": "markdown",
   "metadata": {},
   "source": [
    "![](./media/dte-header.jpg)\n",
    "<a id=\"top\">"
   ]
  },
  {
   "cell_type": "markdown",
   "metadata": {},
   "source": [
    "# Db2 Jupyter Notebook Extensions\n",
    "Welcome to this Db2 lab that demonstrates the use of Jupyter magic commands to connect to Db2. If you are not familiar with the use of Jupyter notebooks or Python, the following notebooks will guide you through their usage.\n",
    "\n",
    "* [An Introduction to Jupyter Notebooks](./An_Introduction_to_Jupyter_Notebooks.ipynb)\n",
    "* [A Brief Introduction to Python](./An_Introduction_to_Python.ipynb)\n",
    "* [Db2 Python API Library and Examples](https://github.com/IBM/db2-python)\n",
    "\n",
    "\n",
    "Db2 Magic commands allow you to access Db2 within a Jupyter notebook without having to use the underlying Python database drivers. These notebooks take you through the basics of using the Db2 magic commands as well as more complex SQL examples.\n",
    "\n",
    "* [An Introduction to Db2 Magic Commands](./Db2_Jupyter_Extensions_Tutorial.ipynb)\n",
    "* [Calling Stored Procedures in Db2](./Db2_Calling_Stored_Procedures.ipynb)\n",
    "* [Using Prepared Statements in your SQL](./Db2_Using_Prepared_Statements.ipynb)\n",
    "* [Writing Db2 Macros to Simplify your SQL](./Db2_Jupyter_Macros.ipynb)\n",
    "\n",
    "### Installation and Customization\n",
    "\n",
    "If you need to install Jupyter Notebook on your system, or want to create a Docker container that has Jupyter Notebook installed in it, review the following documents. The Docker container does not include Db2 in it, so you will still need access to a Db2 system. Instructions for creating a Db2 docker image are found on the Docker site (see the link below).\n",
    "\n",
    "* [Installing Jupyter Notebook and Db2 Extensions](./Installation_Instructions.ipynb)\n",
    "* [Using Docker to run Jupyter Notebook and Db2](./Docker_Instructions.ipynb)\n",
    "* [Installing Db2 in a Docker container](https://hub.docker.com/r/ibmcom/db2)"
   ]
  },
  {
   "cell_type": "markdown",
   "metadata": {},
   "source": [
    "#### Questions and Comments: George Baklarz [baklarz@ca.ibm.com]"
   ]
  }
 ],
 "metadata": {
  "kernelspec": {
   "display_name": "Python 3",
   "language": "python",
   "name": "python3"
  },
  "language_info": {
   "codemirror_mode": {
    "name": "ipython",
    "version": 3
   },
   "file_extension": ".py",
   "mimetype": "text/x-python",
   "name": "python",
   "nbconvert_exporter": "python",
   "pygments_lexer": "ipython3",
   "version": "3.7.4"
  }
 },
 "nbformat": 4,
 "nbformat_minor": 2
}
